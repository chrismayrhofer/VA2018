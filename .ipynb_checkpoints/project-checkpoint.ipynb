{
 "cells": [
  {
   "cell_type": "markdown",
   "metadata": {},
   "source": [
    "# VISUAL ANALYTICS#\n",
    "## Lab Project ##\n",
    "WS 2018\n",
    "\n",
    "\n",
    "### GROUP: team0 ###\n",
    "#### group members: ####\n",
    "Marvin Hengster, k015555357 <br>\n",
    "Christian Mayrhofer, k01555863"
   ]
  },
  {
   "cell_type": "markdown",
   "metadata": {},
   "source": [
    "### The dataset:###\n",
    "\"BOSTON - CRIME INCIDENT REPORTS\"<br>\n",
    "https://data.boston.gov/dataset/crime-incident-reports-august-2015-to-date-source-new-system <br>\n",
    "(downloaded: 2019-01-01)\n"
   ]
  },
  {
   "cell_type": "markdown",
   "metadata": {},
   "source": [
    "##### imports:####"
   ]
  },
  {
   "cell_type": "code",
   "execution_count": 100,
   "metadata": {},
   "outputs": [],
   "source": [
    "import numpy as np\n",
    "import pandas as pd\n",
    "\n",
    "from datetime import datetime, timedelta\n",
    "\n",
    "#disable some annoying warnings\n",
    "import warnings\n",
    "warnings.filterwarnings('ignore', category=FutureWarning)\n",
    "\n",
    "#plots the figures in place instead of a new window\n",
    "%matplotlib inline\n",
    "\n",
    "import matplotlib.pyplot as plt\n",
    "import seaborn as sns\n",
    "\n",
    "fig_size = plt.rcParams[\"figure.figsize\"]\n",
    "fig_size[0] = 15\n",
    "fig_size[1] = 8\n",
    "plt.rcParams[\"figure.figsize\"] = fig_size"
   ]
  },
  {
   "cell_type": "markdown",
   "metadata": {},
   "source": [
    "-----------------------------------------------\n",
    "## LOADING AND WRANGLING THE DATASET"
   ]
  },
  {
   "cell_type": "markdown",
   "metadata": {},
   "source": [
    "##### importing...\n"
   ]
  },
  {
   "cell_type": "code",
   "execution_count": 2,
   "metadata": {},
   "outputs": [],
   "source": [
    "crime = pd.read_csv('crime.csv', encoding = \"latin1\")"
   ]
  },
  {
   "cell_type": "markdown",
   "metadata": {},
   "source": [
    "##### taking a look at the data(-set)"
   ]
  },
  {
   "cell_type": "code",
   "execution_count": 3,
   "metadata": {},
   "outputs": [
    {
     "data": {
      "text/plain": [
       "Index(['INCIDENT_NUMBER', 'OFFENSE_CODE', 'OFFENSE_CODE_GROUP',\n",
       "       'OFFENSE_DESCRIPTION', 'DISTRICT', 'REPORTING_AREA', 'SHOOTING',\n",
       "       'OCCURRED_ON_DATE', 'YEAR', 'MONTH', 'DAY_OF_WEEK', 'HOUR', 'UCR_PART',\n",
       "       'STREET', 'Lat', 'Long', 'Location'],\n",
       "      dtype='object')"
      ]
     },
     "execution_count": 3,
     "metadata": {},
     "output_type": "execute_result"
    }
   ],
   "source": [
    "crime.columns"
   ]
  },
  {
   "cell_type": "code",
   "execution_count": 4,
   "metadata": {},
   "outputs": [
    {
     "data": {
      "text/html": [
       "<div>\n",
       "<style scoped>\n",
       "    .dataframe tbody tr th:only-of-type {\n",
       "        vertical-align: middle;\n",
       "    }\n",
       "\n",
       "    .dataframe tbody tr th {\n",
       "        vertical-align: top;\n",
       "    }\n",
       "\n",
       "    .dataframe thead th {\n",
       "        text-align: right;\n",
       "    }\n",
       "</style>\n",
       "<table border=\"1\" class=\"dataframe\">\n",
       "  <thead>\n",
       "    <tr style=\"text-align: right;\">\n",
       "      <th></th>\n",
       "      <th>INCIDENT_NUMBER</th>\n",
       "      <th>OFFENSE_CODE</th>\n",
       "      <th>OFFENSE_CODE_GROUP</th>\n",
       "      <th>OFFENSE_DESCRIPTION</th>\n",
       "      <th>DISTRICT</th>\n",
       "      <th>REPORTING_AREA</th>\n",
       "      <th>SHOOTING</th>\n",
       "      <th>OCCURRED_ON_DATE</th>\n",
       "      <th>YEAR</th>\n",
       "      <th>MONTH</th>\n",
       "      <th>DAY_OF_WEEK</th>\n",
       "      <th>HOUR</th>\n",
       "      <th>UCR_PART</th>\n",
       "      <th>STREET</th>\n",
       "      <th>Lat</th>\n",
       "      <th>Long</th>\n",
       "      <th>Location</th>\n",
       "    </tr>\n",
       "  </thead>\n",
       "  <tbody>\n",
       "    <tr>\n",
       "      <th>0</th>\n",
       "      <td>I182105251</td>\n",
       "      <td>613</td>\n",
       "      <td>Larceny</td>\n",
       "      <td>LARCENY SHOPLIFTING</td>\n",
       "      <td>A1</td>\n",
       "      <td>102</td>\n",
       "      <td>NaN</td>\n",
       "      <td>2018-12-31 21:16:00</td>\n",
       "      <td>2018</td>\n",
       "      <td>12</td>\n",
       "      <td>Monday</td>\n",
       "      <td>21</td>\n",
       "      <td>Part One</td>\n",
       "      <td>WINTER ST</td>\n",
       "      <td>42.356024</td>\n",
       "      <td>-71.061776</td>\n",
       "      <td>(42.35602373, -71.06177615)</td>\n",
       "    </tr>\n",
       "    <tr>\n",
       "      <th>1</th>\n",
       "      <td>I182105250</td>\n",
       "      <td>2647</td>\n",
       "      <td>Other</td>\n",
       "      <td>THREATS TO DO BODILY HARM</td>\n",
       "      <td>E18</td>\n",
       "      <td>502</td>\n",
       "      <td>NaN</td>\n",
       "      <td>2018-12-31 21:00:00</td>\n",
       "      <td>2018</td>\n",
       "      <td>12</td>\n",
       "      <td>Monday</td>\n",
       "      <td>21</td>\n",
       "      <td>Part Two</td>\n",
       "      <td>BYRD AVE</td>\n",
       "      <td>42.285708</td>\n",
       "      <td>-71.114583</td>\n",
       "      <td>(42.28570817, -71.11458324)</td>\n",
       "    </tr>\n",
       "    <tr>\n",
       "      <th>2</th>\n",
       "      <td>I182105246</td>\n",
       "      <td>3006</td>\n",
       "      <td>Medical Assistance</td>\n",
       "      <td>SICK/INJURED/MEDICAL - PERSON</td>\n",
       "      <td>D4</td>\n",
       "      <td>273</td>\n",
       "      <td>NaN</td>\n",
       "      <td>2018-12-31 21:09:00</td>\n",
       "      <td>2018</td>\n",
       "      <td>12</td>\n",
       "      <td>Monday</td>\n",
       "      <td>21</td>\n",
       "      <td>Part Three</td>\n",
       "      <td>NORTHAMPTON ST</td>\n",
       "      <td>42.336196</td>\n",
       "      <td>-71.077870</td>\n",
       "      <td>(42.33619626, -71.07787036)</td>\n",
       "    </tr>\n",
       "    <tr>\n",
       "      <th>3</th>\n",
       "      <td>I182105245</td>\n",
       "      <td>3201</td>\n",
       "      <td>Property Lost</td>\n",
       "      <td>PROPERTY - LOST</td>\n",
       "      <td>C6</td>\n",
       "      <td>186</td>\n",
       "      <td>NaN</td>\n",
       "      <td>2018-12-31 14:00:00</td>\n",
       "      <td>2018</td>\n",
       "      <td>12</td>\n",
       "      <td>Monday</td>\n",
       "      <td>14</td>\n",
       "      <td>Part Three</td>\n",
       "      <td>MASSACHUSETTS AVE</td>\n",
       "      <td>42.325538</td>\n",
       "      <td>-71.065796</td>\n",
       "      <td>(42.32553801, -71.06579592)</td>\n",
       "    </tr>\n",
       "    <tr>\n",
       "      <th>4</th>\n",
       "      <td>I182105242</td>\n",
       "      <td>619</td>\n",
       "      <td>Larceny</td>\n",
       "      <td>LARCENY ALL OTHERS</td>\n",
       "      <td>C6</td>\n",
       "      <td>220</td>\n",
       "      <td>NaN</td>\n",
       "      <td>2018-12-20 14:00:00</td>\n",
       "      <td>2018</td>\n",
       "      <td>12</td>\n",
       "      <td>Thursday</td>\n",
       "      <td>14</td>\n",
       "      <td>Part One</td>\n",
       "      <td>DORCHESTER ST</td>\n",
       "      <td>42.334829</td>\n",
       "      <td>-71.047050</td>\n",
       "      <td>(42.33482917, -71.04705015)</td>\n",
       "    </tr>\n",
       "  </tbody>\n",
       "</table>\n",
       "</div>"
      ],
      "text/plain": [
       "  INCIDENT_NUMBER  OFFENSE_CODE  OFFENSE_CODE_GROUP  \\\n",
       "0      I182105251           613             Larceny   \n",
       "1      I182105250          2647               Other   \n",
       "2      I182105246          3006  Medical Assistance   \n",
       "3      I182105245          3201       Property Lost   \n",
       "4      I182105242           619             Larceny   \n",
       "\n",
       "             OFFENSE_DESCRIPTION DISTRICT REPORTING_AREA SHOOTING  \\\n",
       "0            LARCENY SHOPLIFTING       A1            102      NaN   \n",
       "1      THREATS TO DO BODILY HARM      E18            502      NaN   \n",
       "2  SICK/INJURED/MEDICAL - PERSON       D4            273      NaN   \n",
       "3                PROPERTY - LOST       C6            186      NaN   \n",
       "4             LARCENY ALL OTHERS       C6            220      NaN   \n",
       "\n",
       "      OCCURRED_ON_DATE  YEAR  MONTH DAY_OF_WEEK  HOUR    UCR_PART  \\\n",
       "0  2018-12-31 21:16:00  2018     12      Monday    21    Part One   \n",
       "1  2018-12-31 21:00:00  2018     12      Monday    21    Part Two   \n",
       "2  2018-12-31 21:09:00  2018     12      Monday    21  Part Three   \n",
       "3  2018-12-31 14:00:00  2018     12      Monday    14  Part Three   \n",
       "4  2018-12-20 14:00:00  2018     12    Thursday    14    Part One   \n",
       "\n",
       "              STREET        Lat       Long                     Location  \n",
       "0          WINTER ST  42.356024 -71.061776  (42.35602373, -71.06177615)  \n",
       "1           BYRD AVE  42.285708 -71.114583  (42.28570817, -71.11458324)  \n",
       "2     NORTHAMPTON ST  42.336196 -71.077870  (42.33619626, -71.07787036)  \n",
       "3  MASSACHUSETTS AVE  42.325538 -71.065796  (42.32553801, -71.06579592)  \n",
       "4      DORCHESTER ST  42.334829 -71.047050  (42.33482917, -71.04705015)  "
      ]
     },
     "execution_count": 4,
     "metadata": {},
     "output_type": "execute_result"
    }
   ],
   "source": [
    "crime.head()"
   ]
  },
  {
   "cell_type": "markdown",
   "metadata": {},
   "source": [
    "##### make the \"INDCIDENT_NUMBER\" the primary key"
   ]
  },
  {
   "cell_type": "code",
   "execution_count": 5,
   "metadata": {},
   "outputs": [],
   "source": [
    "crime.index = crime.pop('INCIDENT_NUMBER')"
   ]
  },
  {
   "cell_type": "markdown",
   "metadata": {},
   "source": [
    "##### since we have mostly categorical data and less continuous data, the \"describe\" function does not tell us very much interesting stuff\n",
    "The only interesting one could be the hour and the month.<br>\n",
    "It tells us *when* the incident occurred."
   ]
  },
  {
   "cell_type": "code",
   "execution_count": 6,
   "metadata": {},
   "outputs": [
    {
     "data": {
      "text/html": [
       "<div>\n",
       "<style scoped>\n",
       "    .dataframe tbody tr th:only-of-type {\n",
       "        vertical-align: middle;\n",
       "    }\n",
       "\n",
       "    .dataframe tbody tr th {\n",
       "        vertical-align: top;\n",
       "    }\n",
       "\n",
       "    .dataframe thead th {\n",
       "        text-align: right;\n",
       "    }\n",
       "</style>\n",
       "<table border=\"1\" class=\"dataframe\">\n",
       "  <thead>\n",
       "    <tr style=\"text-align: right;\">\n",
       "      <th></th>\n",
       "      <th>OFFENSE_CODE</th>\n",
       "      <th>YEAR</th>\n",
       "      <th>MONTH</th>\n",
       "      <th>HOUR</th>\n",
       "      <th>Lat</th>\n",
       "      <th>Long</th>\n",
       "    </tr>\n",
       "  </thead>\n",
       "  <tbody>\n",
       "    <tr>\n",
       "      <th>count</th>\n",
       "      <td>350784.000000</td>\n",
       "      <td>350784.000000</td>\n",
       "      <td>350784.000000</td>\n",
       "      <td>350784.000000</td>\n",
       "      <td>328787.000000</td>\n",
       "      <td>328787.000000</td>\n",
       "    </tr>\n",
       "    <tr>\n",
       "      <th>mean</th>\n",
       "      <td>2320.336880</td>\n",
       "      <td>2016.689895</td>\n",
       "      <td>6.946754</td>\n",
       "      <td>13.108825</td>\n",
       "      <td>42.210274</td>\n",
       "      <td>-70.901698</td>\n",
       "    </tr>\n",
       "    <tr>\n",
       "      <th>std</th>\n",
       "      <td>1185.046792</td>\n",
       "      <td>1.035665</td>\n",
       "      <td>3.323920</td>\n",
       "      <td>6.289607</td>\n",
       "      <td>2.200125</td>\n",
       "      <td>3.558916</td>\n",
       "    </tr>\n",
       "    <tr>\n",
       "      <th>min</th>\n",
       "      <td>111.000000</td>\n",
       "      <td>2015.000000</td>\n",
       "      <td>1.000000</td>\n",
       "      <td>0.000000</td>\n",
       "      <td>-1.000000</td>\n",
       "      <td>-71.178674</td>\n",
       "    </tr>\n",
       "    <tr>\n",
       "      <th>25%</th>\n",
       "      <td>1001.000000</td>\n",
       "      <td>2016.000000</td>\n",
       "      <td>4.000000</td>\n",
       "      <td>9.000000</td>\n",
       "      <td>42.297466</td>\n",
       "      <td>-71.097172</td>\n",
       "    </tr>\n",
       "    <tr>\n",
       "      <th>50%</th>\n",
       "      <td>2907.000000</td>\n",
       "      <td>2017.000000</td>\n",
       "      <td>7.000000</td>\n",
       "      <td>14.000000</td>\n",
       "      <td>42.325552</td>\n",
       "      <td>-71.077526</td>\n",
       "    </tr>\n",
       "    <tr>\n",
       "      <th>75%</th>\n",
       "      <td>3201.000000</td>\n",
       "      <td>2018.000000</td>\n",
       "      <td>10.000000</td>\n",
       "      <td>18.000000</td>\n",
       "      <td>42.348624</td>\n",
       "      <td>-71.062498</td>\n",
       "    </tr>\n",
       "    <tr>\n",
       "      <th>max</th>\n",
       "      <td>3831.000000</td>\n",
       "      <td>2018.000000</td>\n",
       "      <td>12.000000</td>\n",
       "      <td>23.000000</td>\n",
       "      <td>42.395042</td>\n",
       "      <td>-1.000000</td>\n",
       "    </tr>\n",
       "  </tbody>\n",
       "</table>\n",
       "</div>"
      ],
      "text/plain": [
       "        OFFENSE_CODE           YEAR          MONTH           HOUR  \\\n",
       "count  350784.000000  350784.000000  350784.000000  350784.000000   \n",
       "mean     2320.336880    2016.689895       6.946754      13.108825   \n",
       "std      1185.046792       1.035665       3.323920       6.289607   \n",
       "min       111.000000    2015.000000       1.000000       0.000000   \n",
       "25%      1001.000000    2016.000000       4.000000       9.000000   \n",
       "50%      2907.000000    2017.000000       7.000000      14.000000   \n",
       "75%      3201.000000    2018.000000      10.000000      18.000000   \n",
       "max      3831.000000    2018.000000      12.000000      23.000000   \n",
       "\n",
       "                 Lat           Long  \n",
       "count  328787.000000  328787.000000  \n",
       "mean       42.210274     -70.901698  \n",
       "std         2.200125       3.558916  \n",
       "min        -1.000000     -71.178674  \n",
       "25%        42.297466     -71.097172  \n",
       "50%        42.325552     -71.077526  \n",
       "75%        42.348624     -71.062498  \n",
       "max        42.395042      -1.000000  "
      ]
     },
     "execution_count": 6,
     "metadata": {},
     "output_type": "execute_result"
    }
   ],
   "source": [
    "crime.describe()"
   ]
  },
  {
   "cell_type": "markdown",
   "metadata": {},
   "source": [
    "The median of the hour, e.g., tells us that most of the incidents occurred in the second half of the day.<br>\n",
    "(Crime incidents usually take place at the evening/night)"
   ]
  },
  {
   "cell_type": "code",
   "execution_count": 7,
   "metadata": {
    "scrolled": true
   },
   "outputs": [
    {
     "data": {
      "text/html": [
       "<div>\n",
       "<style scoped>\n",
       "    .dataframe tbody tr th:only-of-type {\n",
       "        vertical-align: middle;\n",
       "    }\n",
       "\n",
       "    .dataframe tbody tr th {\n",
       "        vertical-align: top;\n",
       "    }\n",
       "\n",
       "    .dataframe thead th {\n",
       "        text-align: right;\n",
       "    }\n",
       "</style>\n",
       "<table border=\"1\" class=\"dataframe\">\n",
       "  <thead>\n",
       "    <tr style=\"text-align: right;\">\n",
       "      <th></th>\n",
       "      <th>OFFENSE_CODE</th>\n",
       "      <th>OFFENSE_CODE_GROUP</th>\n",
       "      <th>OFFENSE_DESCRIPTION</th>\n",
       "      <th>DISTRICT</th>\n",
       "      <th>REPORTING_AREA</th>\n",
       "      <th>SHOOTING</th>\n",
       "      <th>OCCURRED_ON_DATE</th>\n",
       "      <th>YEAR</th>\n",
       "      <th>MONTH</th>\n",
       "      <th>DAY_OF_WEEK</th>\n",
       "      <th>HOUR</th>\n",
       "      <th>UCR_PART</th>\n",
       "      <th>STREET</th>\n",
       "      <th>Lat</th>\n",
       "      <th>Long</th>\n",
       "      <th>Location</th>\n",
       "    </tr>\n",
       "    <tr>\n",
       "      <th>INCIDENT_NUMBER</th>\n",
       "      <th></th>\n",
       "      <th></th>\n",
       "      <th></th>\n",
       "      <th></th>\n",
       "      <th></th>\n",
       "      <th></th>\n",
       "      <th></th>\n",
       "      <th></th>\n",
       "      <th></th>\n",
       "      <th></th>\n",
       "      <th></th>\n",
       "      <th></th>\n",
       "      <th></th>\n",
       "      <th></th>\n",
       "      <th></th>\n",
       "      <th></th>\n",
       "    </tr>\n",
       "  </thead>\n",
       "  <tbody>\n",
       "    <tr>\n",
       "      <th>I162013546</th>\n",
       "      <td>3201</td>\n",
       "      <td>Property Lost</td>\n",
       "      <td>PROPERTY - LOST</td>\n",
       "      <td>B3</td>\n",
       "      <td>433</td>\n",
       "      <td>NaN</td>\n",
       "      <td>2015-06-15 00:00:00</td>\n",
       "      <td>2015</td>\n",
       "      <td>6</td>\n",
       "      <td>Monday</td>\n",
       "      <td>0</td>\n",
       "      <td>Part Three</td>\n",
       "      <td>NORFOLK ST</td>\n",
       "      <td>42.283634</td>\n",
       "      <td>-71.082813</td>\n",
       "      <td>(42.28363434, -71.08281320)</td>\n",
       "    </tr>\n",
       "    <tr>\n",
       "      <th>I152051083</th>\n",
       "      <td>3130</td>\n",
       "      <td>Search Warrants</td>\n",
       "      <td>SEARCH WARRANT</td>\n",
       "      <td>A7</td>\n",
       "      <td>20</td>\n",
       "      <td>NaN</td>\n",
       "      <td>2015-06-15 00:00:00</td>\n",
       "      <td>2015</td>\n",
       "      <td>6</td>\n",
       "      <td>Monday</td>\n",
       "      <td>0</td>\n",
       "      <td>Part Three</td>\n",
       "      <td>PARIS ST</td>\n",
       "      <td>42.377023</td>\n",
       "      <td>-71.032247</td>\n",
       "      <td>(42.37702319, -71.03224730)</td>\n",
       "    </tr>\n",
       "    <tr>\n",
       "      <th>I152054279</th>\n",
       "      <td>1106</td>\n",
       "      <td>Confidence Games</td>\n",
       "      <td>FRAUD - CREDIT CARD / ATM FRAUD</td>\n",
       "      <td>B3</td>\n",
       "      <td>456</td>\n",
       "      <td>NaN</td>\n",
       "      <td>2015-06-15 00:00:00</td>\n",
       "      <td>2015</td>\n",
       "      <td>6</td>\n",
       "      <td>Monday</td>\n",
       "      <td>0</td>\n",
       "      <td>Part Two</td>\n",
       "      <td>HARLEM ST</td>\n",
       "      <td>42.300217</td>\n",
       "      <td>-71.080979</td>\n",
       "      <td>(42.30021684, -71.08097940)</td>\n",
       "    </tr>\n",
       "    <tr>\n",
       "      <th>I152051083</th>\n",
       "      <td>3115</td>\n",
       "      <td>Investigate Person</td>\n",
       "      <td>INVESTIGATE PERSON</td>\n",
       "      <td>A7</td>\n",
       "      <td>20</td>\n",
       "      <td>NaN</td>\n",
       "      <td>2015-06-15 00:00:00</td>\n",
       "      <td>2015</td>\n",
       "      <td>6</td>\n",
       "      <td>Monday</td>\n",
       "      <td>0</td>\n",
       "      <td>Part Three</td>\n",
       "      <td>PARIS ST</td>\n",
       "      <td>42.377023</td>\n",
       "      <td>-71.032247</td>\n",
       "      <td>(42.37702319, -71.03224730)</td>\n",
       "    </tr>\n",
       "    <tr>\n",
       "      <th>I152059178</th>\n",
       "      <td>2647</td>\n",
       "      <td>Other</td>\n",
       "      <td>THREATS TO DO BODILY HARM</td>\n",
       "      <td>C11</td>\n",
       "      <td>359</td>\n",
       "      <td>NaN</td>\n",
       "      <td>2015-06-15 00:00:00</td>\n",
       "      <td>2015</td>\n",
       "      <td>6</td>\n",
       "      <td>Monday</td>\n",
       "      <td>0</td>\n",
       "      <td>Part Two</td>\n",
       "      <td>WASHINGTON ST</td>\n",
       "      <td>42.293606</td>\n",
       "      <td>-71.071887</td>\n",
       "      <td>(42.29360585, -71.07188650)</td>\n",
       "    </tr>\n",
       "  </tbody>\n",
       "</table>\n",
       "</div>"
      ],
      "text/plain": [
       "                 OFFENSE_CODE  OFFENSE_CODE_GROUP  \\\n",
       "INCIDENT_NUMBER                                     \n",
       "I162013546               3201       Property Lost   \n",
       "I152051083               3130     Search Warrants   \n",
       "I152054279               1106    Confidence Games   \n",
       "I152051083               3115  Investigate Person   \n",
       "I152059178               2647               Other   \n",
       "\n",
       "                             OFFENSE_DESCRIPTION DISTRICT REPORTING_AREA  \\\n",
       "INCIDENT_NUMBER                                                            \n",
       "I162013546                       PROPERTY - LOST       B3            433   \n",
       "I152051083                        SEARCH WARRANT       A7             20   \n",
       "I152054279       FRAUD - CREDIT CARD / ATM FRAUD       B3            456   \n",
       "I152051083                    INVESTIGATE PERSON       A7             20   \n",
       "I152059178             THREATS TO DO BODILY HARM      C11            359   \n",
       "\n",
       "                SHOOTING     OCCURRED_ON_DATE  YEAR  MONTH DAY_OF_WEEK  HOUR  \\\n",
       "INCIDENT_NUMBER                                                                \n",
       "I162013546           NaN  2015-06-15 00:00:00  2015      6      Monday     0   \n",
       "I152051083           NaN  2015-06-15 00:00:00  2015      6      Monday     0   \n",
       "I152054279           NaN  2015-06-15 00:00:00  2015      6      Monday     0   \n",
       "I152051083           NaN  2015-06-15 00:00:00  2015      6      Monday     0   \n",
       "I152059178           NaN  2015-06-15 00:00:00  2015      6      Monday     0   \n",
       "\n",
       "                   UCR_PART         STREET        Lat       Long  \\\n",
       "INCIDENT_NUMBER                                                    \n",
       "I162013546       Part Three     NORFOLK ST  42.283634 -71.082813   \n",
       "I152051083       Part Three       PARIS ST  42.377023 -71.032247   \n",
       "I152054279         Part Two      HARLEM ST  42.300217 -71.080979   \n",
       "I152051083       Part Three       PARIS ST  42.377023 -71.032247   \n",
       "I152059178         Part Two  WASHINGTON ST  42.293606 -71.071887   \n",
       "\n",
       "                                    Location  \n",
       "INCIDENT_NUMBER                               \n",
       "I162013546       (42.28363434, -71.08281320)  \n",
       "I152051083       (42.37702319, -71.03224730)  \n",
       "I152054279       (42.30021684, -71.08097940)  \n",
       "I152051083       (42.37702319, -71.03224730)  \n",
       "I152059178       (42.29360585, -71.07188650)  "
      ]
     },
     "execution_count": 7,
     "metadata": {},
     "output_type": "execute_result"
    }
   ],
   "source": [
    "crime.sort_values('OCCURRED_ON_DATE').head()"
   ]
  },
  {
   "cell_type": "markdown",
   "metadata": {},
   "source": [
    "##### only consider data from 2017\n",
    "because of several reasons: <br>\n",
    "* dataset is huge ( > 60 MB)\n",
    "* data from 2015 is not complete (starts at august 2015)\n",
    "* data from 2018 might not be complete (data is inserted a few days/weeks/months after the incident)"
   ]
  },
  {
   "cell_type": "code",
   "execution_count": 8,
   "metadata": {},
   "outputs": [],
   "source": [
    "crime = crime[crime.YEAR == 2017]"
   ]
  },
  {
   "cell_type": "markdown",
   "metadata": {},
   "source": [
    "##### datetime formating"
   ]
  },
  {
   "cell_type": "code",
   "execution_count": 9,
   "metadata": {},
   "outputs": [],
   "source": [
    "# create new column and duplicate the \"OCCURRED_ON_DATE\"-data\n",
    "crime['DATE'] = crime['OCCURRED_ON_DATE']"
   ]
  },
  {
   "cell_type": "code",
   "execution_count": 10,
   "metadata": {},
   "outputs": [],
   "source": [
    "# format all the dates\n",
    "crime['DATE'] = crime.apply(lambda row: datetime.strptime(row['DATE'], '%Y-%m-%d %H:%M:%S'), axis=1)"
   ]
  },
  {
   "cell_type": "markdown",
   "metadata": {},
   "source": [
    "##### NULL values\n",
    "There are rows with no value at the column \"SHOOTING\".<br>\n",
    "All the rows, where data exists, contain the letter \"Y\" for \"yes\"/true/positive.<br>\n",
    "All the other rows should contain the letter \"N\" for no/false/negative for incidents, where no shooting has occurred."
   ]
  },
  {
   "cell_type": "code",
   "execution_count": 14,
   "metadata": {},
   "outputs": [
    {
     "data": {
      "text/plain": [
       "INCIDENT_NUMBER\n",
       "I182104193    True\n",
       "I182104155    True\n",
       "I182102504    True\n",
       "I182102468    True\n",
       "I182102438    True\n",
       "Name: SHOOTING, dtype: bool"
      ]
     },
     "execution_count": 14,
     "metadata": {},
     "output_type": "execute_result"
    }
   ],
   "source": [
    "crime['SHOOTING'].isnull().head()"
   ]
  },
  {
   "cell_type": "markdown",
   "metadata": {},
   "source": [
    "so we set \"N\" for the cells with no values..."
   ]
  },
  {
   "cell_type": "code",
   "execution_count": 15,
   "metadata": {},
   "outputs": [
    {
     "data": {
      "text/plain": [
       "INCIDENT_NUMBER\n",
       "I182104193    N\n",
       "I182104155    N\n",
       "I182102504    N\n",
       "I182102468    N\n",
       "I182102438    N\n",
       "Name: SHOOTING, dtype: object"
      ]
     },
     "execution_count": 15,
     "metadata": {},
     "output_type": "execute_result"
    }
   ],
   "source": [
    "crime['SHOOTING'].fillna('N').head()"
   ]
  },
  {
   "cell_type": "markdown",
   "metadata": {},
   "source": [
    "-----\n",
    "# DESCRIPTIVE STATISTICS"
   ]
  },
  {
   "cell_type": "markdown",
   "metadata": {},
   "source": [
    "Here are some Charts that visualize some basic decriptive statistics.<br>\n",
    "<br>\n",
    "All the records does not explicitly decribe crime cases but they describe *all* the police calls within this year. <br>\n",
    "So, e.g. there are records like \"Medical Assistance\" or \"motorvehicle accidents\" that have nothing to do with crime.  "
   ]
  },
  {
   "cell_type": "markdown",
   "metadata": {},
   "source": [
    "##### Number of police calls per day"
   ]
  },
  {
   "cell_type": "code",
   "execution_count": 99,
   "metadata": {},
   "outputs": [
    {
     "name": "stdout",
     "output_type": "stream",
     "text": [
      "Day with highest number of police calls was 01.09.2017 with 380 calls.\n",
      "Day with lowest number of police calls was 25.12.2017 with 140 calls.\n"
     ]
    },
    {
     "data": {
      "image/png": "[encoded data removed]",
      "text/plain": [
       "<Figure size 576x576 with 1 Axes>"
      ]
     },
     "metadata": {
      "needs_background": "light"
     },
     "output_type": "display_data"
    }
   ],
   "source": [
    "day = [0]*366\n",
    "for i in crime['DATE']:\n",
    "    day[int(i.strftime(\"%j\"))] += 1\n",
    "day = day[1:367]\n",
    "\n",
    "plt.plot(day)\n",
    "plt.title(\"Police calls per day\")\n",
    "plt.xlabel(\"Day of the year\")\n",
    "plt.ylabel(\"Number of calls\")\n",
    "\n",
    "# maximum\n",
    "date = datetime(2017, 1, 1) + timedelta(day.index(max(day)))\n",
    "print(\"Day with highest number of police calls was\",date.strftime(\"%d.%m.%Y\"),\"with\",max(day),\"calls.\")\n",
    "\n",
    "# minimum\n",
    "date = datetime(2017, 1, 1) + timedelta(day.index(min(day)))\n",
    "print(\"Day with lowest number of police calls was\",date.strftime(\"%d.%m.%Y\"),\"with\",min(day),\"calls.\")\n",
    "\n",
    "plt.axhline(y=max(day),color=\"red\")\n",
    "plt.axhline(y=min(day),color=\"red\")\n",
    "\n",
    "plt.show()"
   ]
  },
  {
   "cell_type": "markdown",
   "metadata": {},
   "source": [
    "##### Average number of police calls per day"
   ]
  },
  {
   "cell_type": "code",
   "execution_count": 85,
   "metadata": {},
   "outputs": [
    {
     "name": "stdout",
     "output_type": "stream",
     "text": [
      "On average there were 277  calls per day in 2017.\n",
      "On average there were 1942 calls per week in 2017.\n",
      "On average there were 8417 calls per month in 2017.\n"
     ]
    }
   ],
   "source": [
    "print(\"On average there were\",(round(len(crime)/365)),\" calls per day in 2017.\")\n",
    "print(\"On average there were\",(round(len(crime)/52)),\"calls per week in 2017.\")\n",
    "print(\"On average there were\",(round(len(crime)/12)),\"calls per month in 2017.\")"
   ]
  },
  {
   "cell_type": "markdown",
   "metadata": {},
   "source": [
    "##### Police calls by month"
   ]
  },
  {
   "cell_type": "code",
   "execution_count": 73,
   "metadata": {},
   "outputs": [
    {
     "data": {
      "image/png": "[encoded data removed]",
      "text/plain": [
       "<Figure size 1080x576 with 1 Axes>"
      ]
     },
     "metadata": {
      "needs_background": "light"
     },
     "output_type": "display_data"
    },
    {
     "name": "stdout",
     "output_type": "stream",
     "text": [
      "Month with highest number of police calls was Aug with 9213 calls.\n",
      "Month with lowest  number of police calls was Feb with 7409 calls.\n"
     ]
    }
   ],
   "source": [
    "month = [0,0,0,0,0,0,0,0,0,0,0,0,0]\n",
    "for i in crime['MONTH']:\n",
    "    month[i] += 1\n",
    "month = month[1:13]\n",
    "objects = ('Jan','Feb','Mar','Apr','May','Jun','Jul','Aug','Sep','Oct','Nov','Dec')\n",
    "y_pos = np.arange(len(objects))\n",
    "plt.bar(y_pos,month)\n",
    "plt.xticks(y_pos, objects)\n",
    "plt.title(\"Number of calls per month\")\n",
    "plt.xlabel(\"month\")\n",
    "plt.ylabel(\"Number of calls\")\n",
    "plt.show()\n",
    "\n",
    "print(\"Month with highest number of police calls was\",objects[month.index(max(month))],\"with\",max(month),\"calls.\")\n",
    "print(\"Month with lowest  number of police calls was\",objects[month.index(min(month))],\"with\",min(month),\"calls.\")"
   ]
  },
  {
   "cell_type": "markdown",
   "metadata": {},
   "source": [
    "##### Police calls per day of the week"
   ]
  },
  {
   "cell_type": "code",
   "execution_count": 72,
   "metadata": {},
   "outputs": [
    {
     "data": {
      "image/png": "[encoded data removed]",
      "text/plain": [
       "<Figure size 1080x576 with 1 Axes>"
      ]
     },
     "metadata": {
      "needs_background": "light"
     },
     "output_type": "display_data"
    },
    {
     "name": "stdout",
     "output_type": "stream",
     "text": [
      "Weekday with highest number of police calls was Fri with 15470 calls.\n",
      "Weekday with lowest  number of police calls was Sun with 13031 calls.\n"
     ]
    }
   ],
   "source": [
    "wd = [0,0,0,0,0,0,0,0]\n",
    "for i in crime['DATE']:\n",
    "    wd[int(i.strftime(\"%u\"))] += 1\n",
    "objects = ('Mon','Tue','Wed','Thu','Fri','Sat','Sun')\n",
    "y_pos = np.arange(len(objects))\n",
    "wd = wd[1:8]\n",
    "plt.bar(y_pos,wd)\n",
    "plt.xticks(y_pos, objects)\n",
    "plt.title(\"Number of calls per weekday\")\n",
    "plt.xlabel(\"weekday\")\n",
    "plt.ylabel(\"Number of calls\")\n",
    "plt.show()\n",
    "\n",
    "print(\"Weekday with highest number of police calls was\",objects[wd.index(max(wd))],\"with\",max(wd),\"calls.\")\n",
    "print(\"Weekday with lowest  number of police calls was\",objects[wd.index(min(wd))],\"with\",min(wd),\"calls.\")"
   ]
  },
  {
   "cell_type": "markdown",
   "metadata": {},
   "source": [
    "##### Police calls per hour of the day"
   ]
  },
  {
   "cell_type": "code",
   "execution_count": 75,
   "metadata": {},
   "outputs": [
    {
     "data": {
      "image/png": "[encoded data removed]",
      "text/plain": [
       "<Figure size 1080x576 with 1 Axes>"
      ]
     },
     "metadata": {
      "needs_background": "light"
     },
     "output_type": "display_data"
    },
    {
     "name": "stdout",
     "output_type": "stream",
     "text": [
      "Hour with highest number of police calls was 17 with 6687 calls.\n",
      "Hour with lowest  number of police calls was 5 with 1045 calls.\n"
     ]
    }
   ],
   "source": [
    "hr = [0]*24\n",
    "for i in crime['HOUR']:\n",
    "    hr[i] += 1\n",
    "objects = (0,1,2,3,4,5,6,7,8,9,10,11,12,13,14,15,16,17,18,19,20,21,22,23)\n",
    "y_pos = np.arange(len(objects))\n",
    "plt.bar(y_pos,hr)\n",
    "plt.xticks(y_pos, objects)\n",
    "plt.title(\"Number of calls per hour of the day\")\n",
    "plt.xlabel(\"hour\")\n",
    "plt.ylabel(\"Number of calls\")\n",
    "plt.show()\n",
    "\n",
    "print(\"Hour with highest number of police calls was\",objects[hr.index(max(hr))],\"with\",max(hr),\"calls.\")\n",
    "print(\"Hour with lowest  number of police calls was\",objects[hr.index(min(hr))],\"with\",min(hr),\"calls.\")"
   ]
  },
  {
   "cell_type": "markdown",
   "metadata": {},
   "source": [
    "### SHOOTINGS\n",
    "At some police calls there are shootings (either because the police is called to shootings, or shootings occur when the police is entering the scene) "
   ]
  },
  {
   "cell_type": "code",
   "execution_count": 110,
   "metadata": {
    "scrolled": false
   },
   "outputs": [
    {
     "data": {
      "image/png": "[encoded data removed]",
      "text/plain": [
       "<Figure size 576x576 with 1 Axes>"
      ]
     },
     "metadata": {},
     "output_type": "display_data"
    }
   ],
   "source": [
    "labels = 'Shooting', 'No shooting'\n",
    "sh = 0\n",
    "nsh = 0\n",
    "for i in crime['SHOOTING']:\n",
    "    if(i == \"Y\"):\n",
    "        sh += 1\n",
    "    else:\n",
    "        nsh += 1\n",
    "sizes = [sh,nsh]\n",
    "\n",
    "# set optimal figure size\n",
    "fig_size = plt.rcParams[\"figure.figsize\"]\n",
    "fig_size[0] = 8\n",
    "fig_size[1] = 8\n",
    "plt.rcParams[\"figure.figsize\"] = fig_size\n",
    "\n",
    "plt.pie(sizes, labels=labels, autopct='%1.1f%%',shadow=True, startangle=90)\n",
    "plt.show()"
   ]
  },
  {
   "cell_type": "code",
   "execution_count": 105,
   "metadata": {},
   "outputs": [],
   "source": [
    "# reset default fig size\n",
    "fig_size = plt.rcParams[\"figure.figsize\"]\n",
    "fig_size[0] = 15\n",
    "fig_size[1] = 8\n",
    "plt.rcParams[\"figure.figsize\"] = fig_size"
   ]
  },
  {
   "cell_type": "code",
   "execution_count": null,
   "metadata": {},
   "outputs": [],
   "source": []
  }
 ],
 "metadata": {
  "kernelspec": {
   "display_name": "Python 3",
   "language": "python",
   "name": "python3"
  },
  "language_info": {
   "codemirror_mode": {
    "name": "ipython",
    "version": 3
   },
   "file_extension": ".py",
   "mimetype": "text/x-python",
   "name": "python",
   "nbconvert_exporter": "python",
   "pygments_lexer": "ipython3",
   "version": "3.7.0"
  }
 },
 "nbformat": 4,
 "nbformat_minor": 2
}
